{
 "cells": [
  {
   "cell_type": "code",
   "execution_count": 1,
   "metadata": {
    "_cell_guid": "b1076dfc-b9ad-4769-8c92-a6c4dae69d19",
    "_uuid": "8f2839f25d086af736a60e9eeb907d3b93b6e0e5",
    "execution": {
     "iopub.execute_input": "2020-12-22T03:48:36.274433Z",
     "iopub.status.busy": "2020-12-22T03:48:36.273537Z",
     "iopub.status.idle": "2020-12-22T03:48:36.279263Z",
     "shell.execute_reply": "2020-12-22T03:48:36.279873Z"
    },
    "papermill": {
     "duration": 0.036028,
     "end_time": "2020-12-22T03:48:36.280060",
     "exception": false,
     "start_time": "2020-12-22T03:48:36.244032",
     "status": "completed"
    },
    "tags": []
   },
   "outputs": [],
   "source": [
    "# This Python 3 environment comes with many helpful analytics libraries installed\n",
    "# It is defined by the kaggle/python Docker image: https://github.com/kaggle/docker-python\n",
    "# For example, here's several helpful packages to load\n",
    "\n",
    "import numpy as np # linear algebra\n",
    "import pandas as pd # data processing, CSV file I/O (e.g. pd.read_csv)\n",
    "\n",
    "# Input data files are available in the read-only \"../input/\" directory\n",
    "# For example, running this (by clicking run or pressing Shift+Enter) will list all files under the input directory\n",
    "\n",
    "import os\n",
    "for dirname, _, filenames in os.walk('/kaggle/input'):\n",
    "    for filename in filenames:\n",
    "        print(os.path.join(dirname, filename))\n",
    "\n",
    "# You can write up to 20GB to the current directory (/kaggle/working/) that gets preserved as output when you create a version using \"Save & Run All\" \n",
    "# You can also write temporary files to /kaggle/temp/, but they won't be saved outside of the current session"
   ]
  },
  {
   "cell_type": "code",
   "execution_count": 2,
   "metadata": {
    "_cell_guid": "79c7e3d0-c299-4dcb-8224-4455121ee9b0",
    "_uuid": "d629ff2d2480ee46fbb7e2d37f6b5fab8052498a",
    "execution": {
     "iopub.execute_input": "2020-12-22T03:48:36.324216Z",
     "iopub.status.busy": "2020-12-22T03:48:36.323375Z",
     "iopub.status.idle": "2020-12-22T03:48:40.449413Z",
     "shell.execute_reply": "2020-12-22T03:48:40.448382Z"
    },
    "papermill": {
     "duration": 4.151399,
     "end_time": "2020-12-22T03:48:40.449527",
     "exception": false,
     "start_time": "2020-12-22T03:48:36.298128",
     "status": "completed"
    },
    "tags": []
   },
   "outputs": [],
   "source": [
    "import random\n",
    "import torch\n",
    "import re\n",
    "import torch.nn as nn\n",
    "import torch.optim as optim \n",
    "import spacy\n",
    "from torchtext.datasets import Multi30k"
   ]
  },
  {
   "cell_type": "code",
   "execution_count": 3,
   "metadata": {
    "execution": {
     "iopub.execute_input": "2020-12-22T03:48:40.476766Z",
     "iopub.status.busy": "2020-12-22T03:48:40.476064Z",
     "iopub.status.idle": "2020-12-22T03:49:00.807972Z",
     "shell.execute_reply": "2020-12-22T03:49:00.806954Z"
    },
    "papermill": {
     "duration": 20.347291,
     "end_time": "2020-12-22T03:49:00.808098",
     "exception": false,
     "start_time": "2020-12-22T03:48:40.460807",
     "status": "completed"
    },
    "tags": []
   },
   "outputs": [
    {
     "name": "stdout",
     "output_type": "stream",
     "text": [
      "Collecting de_core_news_sm==2.3.0\r\n",
      "  Downloading https://github.com/explosion/spacy-models/releases/download/de_core_news_sm-2.3.0/de_core_news_sm-2.3.0.tar.gz (14.9 MB)\r\n",
      "\u001b[K     |████████████████████████████████| 14.9 MB 674 kB/s \r\n",
      "\u001b[?25hRequirement already satisfied: spacy<2.4.0,>=2.3.0 in /opt/conda/lib/python3.7/site-packages (from de_core_news_sm==2.3.0) (2.3.4)\r\n",
      "Requirement already satisfied: catalogue<1.1.0,>=0.0.7 in /opt/conda/lib/python3.7/site-packages (from spacy<2.4.0,>=2.3.0->de_core_news_sm==2.3.0) (1.0.0)\r\n",
      "Requirement already satisfied: cymem<2.1.0,>=2.0.2 in /opt/conda/lib/python3.7/site-packages (from spacy<2.4.0,>=2.3.0->de_core_news_sm==2.3.0) (2.0.5)\r\n",
      "Requirement already satisfied: plac<1.2.0,>=0.9.6 in /opt/conda/lib/python3.7/site-packages (from spacy<2.4.0,>=2.3.0->de_core_news_sm==2.3.0) (1.1.3)\r\n",
      "Requirement already satisfied: murmurhash<1.1.0,>=0.28.0 in /opt/conda/lib/python3.7/site-packages (from spacy<2.4.0,>=2.3.0->de_core_news_sm==2.3.0) (1.0.5)\r\n",
      "Requirement already satisfied: wasabi<1.1.0,>=0.4.0 in /opt/conda/lib/python3.7/site-packages (from spacy<2.4.0,>=2.3.0->de_core_news_sm==2.3.0) (0.8.0)\r\n",
      "Requirement already satisfied: requests<3.0.0,>=2.13.0 in /opt/conda/lib/python3.7/site-packages (from spacy<2.4.0,>=2.3.0->de_core_news_sm==2.3.0) (2.23.0)\r\n",
      "Requirement already satisfied: srsly<1.1.0,>=1.0.2 in /opt/conda/lib/python3.7/site-packages (from spacy<2.4.0,>=2.3.0->de_core_news_sm==2.3.0) (1.0.5)\r\n",
      "Requirement already satisfied: numpy>=1.15.0 in /opt/conda/lib/python3.7/site-packages (from spacy<2.4.0,>=2.3.0->de_core_news_sm==2.3.0) (1.18.5)\r\n",
      "Requirement already satisfied: preshed<3.1.0,>=3.0.2 in /opt/conda/lib/python3.7/site-packages (from spacy<2.4.0,>=2.3.0->de_core_news_sm==2.3.0) (3.0.5)\r\n",
      "Requirement already satisfied: blis<0.8.0,>=0.4.0 in /opt/conda/lib/python3.7/site-packages (from spacy<2.4.0,>=2.3.0->de_core_news_sm==2.3.0) (0.7.4)\r\n",
      "Requirement already satisfied: tqdm<5.0.0,>=4.38.0 in /opt/conda/lib/python3.7/site-packages (from spacy<2.4.0,>=2.3.0->de_core_news_sm==2.3.0) (4.45.0)\r\n",
      "Requirement already satisfied: thinc<7.5.0,>=7.4.1 in /opt/conda/lib/python3.7/site-packages (from spacy<2.4.0,>=2.3.0->de_core_news_sm==2.3.0) (7.4.3)\r\n",
      "Requirement already satisfied: setuptools in /opt/conda/lib/python3.7/site-packages (from spacy<2.4.0,>=2.3.0->de_core_news_sm==2.3.0) (46.1.3.post20200325)\r\n",
      "Requirement already satisfied: numpy>=1.15.0 in /opt/conda/lib/python3.7/site-packages (from spacy<2.4.0,>=2.3.0->de_core_news_sm==2.3.0) (1.18.5)\r\n",
      "Requirement already satisfied: importlib-metadata>=0.20 in /opt/conda/lib/python3.7/site-packages (from catalogue<1.1.0,>=0.0.7->spacy<2.4.0,>=2.3.0->de_core_news_sm==2.3.0) (3.1.1)\r\n",
      "Requirement already satisfied: zipp>=0.5 in /opt/conda/lib/python3.7/site-packages (from importlib-metadata>=0.20->catalogue<1.1.0,>=0.0.7->spacy<2.4.0,>=2.3.0->de_core_news_sm==2.3.0) (3.1.0)\r\n",
      "Requirement already satisfied: cymem<2.1.0,>=2.0.2 in /opt/conda/lib/python3.7/site-packages (from spacy<2.4.0,>=2.3.0->de_core_news_sm==2.3.0) (2.0.5)\r\n",
      "Requirement already satisfied: murmurhash<1.1.0,>=0.28.0 in /opt/conda/lib/python3.7/site-packages (from spacy<2.4.0,>=2.3.0->de_core_news_sm==2.3.0) (1.0.5)\r\n",
      "Requirement already satisfied: certifi>=2017.4.17 in /opt/conda/lib/python3.7/site-packages (from requests<3.0.0,>=2.13.0->spacy<2.4.0,>=2.3.0->de_core_news_sm==2.3.0) (2020.12.5)\r\n",
      "Requirement already satisfied: chardet<4,>=3.0.2 in /opt/conda/lib/python3.7/site-packages (from requests<3.0.0,>=2.13.0->spacy<2.4.0,>=2.3.0->de_core_news_sm==2.3.0) (3.0.4)\r\n",
      "Requirement already satisfied: idna<3,>=2.5 in /opt/conda/lib/python3.7/site-packages (from requests<3.0.0,>=2.13.0->spacy<2.4.0,>=2.3.0->de_core_news_sm==2.3.0) (2.9)\r\n",
      "Requirement already satisfied: urllib3!=1.25.0,!=1.25.1,<1.26,>=1.21.1 in /opt/conda/lib/python3.7/site-packages (from requests<3.0.0,>=2.13.0->spacy<2.4.0,>=2.3.0->de_core_news_sm==2.3.0) (1.25.9)\r\n",
      "Requirement already satisfied: catalogue<1.1.0,>=0.0.7 in /opt/conda/lib/python3.7/site-packages (from spacy<2.4.0,>=2.3.0->de_core_news_sm==2.3.0) (1.0.0)\r\n",
      "Requirement already satisfied: cymem<2.1.0,>=2.0.2 in /opt/conda/lib/python3.7/site-packages (from spacy<2.4.0,>=2.3.0->de_core_news_sm==2.3.0) (2.0.5)\r\n",
      "Requirement already satisfied: plac<1.2.0,>=0.9.6 in /opt/conda/lib/python3.7/site-packages (from spacy<2.4.0,>=2.3.0->de_core_news_sm==2.3.0) (1.1.3)\r\n",
      "Requirement already satisfied: murmurhash<1.1.0,>=0.28.0 in /opt/conda/lib/python3.7/site-packages (from spacy<2.4.0,>=2.3.0->de_core_news_sm==2.3.0) (1.0.5)\r\n",
      "Requirement already satisfied: preshed<3.1.0,>=3.0.2 in /opt/conda/lib/python3.7/site-packages (from spacy<2.4.0,>=2.3.0->de_core_news_sm==2.3.0) (3.0.5)\r\n",
      "Requirement already satisfied: wasabi<1.1.0,>=0.4.0 in /opt/conda/lib/python3.7/site-packages (from spacy<2.4.0,>=2.3.0->de_core_news_sm==2.3.0) (0.8.0)\r\n",
      "Requirement already satisfied: numpy>=1.15.0 in /opt/conda/lib/python3.7/site-packages (from spacy<2.4.0,>=2.3.0->de_core_news_sm==2.3.0) (1.18.5)\r\n",
      "Requirement already satisfied: srsly<1.1.0,>=1.0.2 in /opt/conda/lib/python3.7/site-packages (from spacy<2.4.0,>=2.3.0->de_core_news_sm==2.3.0) (1.0.5)\r\n",
      "Requirement already satisfied: blis<0.8.0,>=0.4.0 in /opt/conda/lib/python3.7/site-packages (from spacy<2.4.0,>=2.3.0->de_core_news_sm==2.3.0) (0.7.4)\r\n",
      "Requirement already satisfied: tqdm<5.0.0,>=4.38.0 in /opt/conda/lib/python3.7/site-packages (from spacy<2.4.0,>=2.3.0->de_core_news_sm==2.3.0) (4.45.0)\r\n",
      "Building wheels for collected packages: de-core-news-sm\r\n",
      "  Building wheel for de-core-news-sm (setup.py) ... \u001b[?25l-\b \b\\\b \b|\b \b/\b \b-\b \b\\\b \bdone\r\n",
      "\u001b[?25h  Created wheel for de-core-news-sm: filename=de_core_news_sm-2.3.0-py3-none-any.whl size=14907580 sha256=c794b1b46ddc03a595842031df6ea67d044c0b1660cb70b2627373d88bc7ef9e\r\n",
      "  Stored in directory: /tmp/pip-ephem-wheel-cache-6sm3175g/wheels/75/30/c3/ea1c6002eede7f49c8ab017ce62a2981a87b1cd39fab6e6a65\r\n",
      "Successfully built de-core-news-sm\r\n",
      "Installing collected packages: de-core-news-sm\r\n",
      "Successfully installed de-core-news-sm-2.3.0\r\n",
      "\u001b[33mWARNING: You are using pip version 20.3.1; however, version 20.3.3 is available.\r\n",
      "You should consider upgrading via the '/opt/conda/bin/python -m pip install --upgrade pip' command.\u001b[0m\r\n",
      "\u001b[38;5;2m✔ Download and installation successful\u001b[0m\r\n",
      "You can now load the model via spacy.load('de_core_news_sm')\r\n",
      "\u001b[38;5;2m✔ Linking successful\u001b[0m\r\n",
      "/opt/conda/lib/python3.7/site-packages/de_core_news_sm -->\r\n",
      "/opt/conda/lib/python3.7/site-packages/spacy/data/de\r\n",
      "You can now load the model via spacy.load('de')\r\n",
      "\u001b[0m"
     ]
    }
   ],
   "source": [
    "!python -m spacy download de\n"
   ]
  },
  {
   "cell_type": "code",
   "execution_count": 4,
   "metadata": {
    "execution": {
     "iopub.execute_input": "2020-12-22T03:49:00.862575Z",
     "iopub.status.busy": "2020-12-22T03:49:00.861797Z",
     "iopub.status.idle": "2020-12-22T03:49:03.266542Z",
     "shell.execute_reply": "2020-12-22T03:49:03.266052Z"
    },
    "papermill": {
     "duration": 2.433183,
     "end_time": "2020-12-22T03:49:03.266652",
     "exception": false,
     "start_time": "2020-12-22T03:49:00.833469",
     "status": "completed"
    },
    "tags": []
   },
   "outputs": [],
   "source": [
    "spacy_ger = spacy.load(\"de\")\n",
    "spacy_eng = spacy.load(\"en\")"
   ]
  },
  {
   "cell_type": "code",
   "execution_count": 5,
   "metadata": {
    "execution": {
     "iopub.execute_input": "2020-12-22T03:49:03.321968Z",
     "iopub.status.busy": "2020-12-22T03:49:03.321277Z",
     "iopub.status.idle": "2020-12-22T03:49:03.324240Z",
     "shell.execute_reply": "2020-12-22T03:49:03.323845Z"
    },
    "papermill": {
     "duration": 0.032701,
     "end_time": "2020-12-22T03:49:03.324324",
     "exception": false,
     "start_time": "2020-12-22T03:49:03.291623",
     "status": "completed"
    },
    "tags": []
   },
   "outputs": [],
   "source": [
    "def tokenize_ger(text):\n",
    "    return [tok.text for tok in spacy_ger.tokenizer(text)]\n",
    "\n",
    "\n",
    "def tokenize_eng(text):\n",
    "    return [tok.text for tok in spacy_eng.tokenizer(text)]"
   ]
  },
  {
   "cell_type": "code",
   "execution_count": 6,
   "metadata": {
    "execution": {
     "iopub.execute_input": "2020-12-22T03:49:03.381236Z",
     "iopub.status.busy": "2020-12-22T03:49:03.380693Z",
     "iopub.status.idle": "2020-12-22T03:49:03.383650Z",
     "shell.execute_reply": "2020-12-22T03:49:03.384060Z"
    },
    "papermill": {
     "duration": 0.035696,
     "end_time": "2020-12-22T03:49:03.384165",
     "exception": false,
     "start_time": "2020-12-22T03:49:03.348469",
     "status": "completed"
    },
    "tags": []
   },
   "outputs": [
    {
     "data": {
      "text/plain": [
       "['I', 'am', 'Mike', 'Johnson']"
      ]
     },
     "execution_count": 6,
     "metadata": {},
     "output_type": "execute_result"
    }
   ],
   "source": [
    "t=tokenize_eng(\"I am Mike Johnson \")\n",
    "t"
   ]
  },
  {
   "cell_type": "code",
   "execution_count": 7,
   "metadata": {
    "execution": {
     "iopub.execute_input": "2020-12-22T03:49:03.438820Z",
     "iopub.status.busy": "2020-12-22T03:49:03.438193Z",
     "iopub.status.idle": "2020-12-22T03:49:03.444480Z",
     "shell.execute_reply": "2020-12-22T03:49:03.445250Z"
    },
    "papermill": {
     "duration": 0.036082,
     "end_time": "2020-12-22T03:49:03.445395",
     "exception": false,
     "start_time": "2020-12-22T03:49:03.409313",
     "status": "completed"
    },
    "tags": []
   },
   "outputs": [
    {
     "name": "stderr",
     "output_type": "stream",
     "text": [
      "/opt/conda/lib/python3.7/site-packages/torchtext/data/field.py:150: UserWarning: Field class will be retired soon and moved to torchtext.legacy. Please see the most recent release notes for further information.\n",
      "  warnings.warn('{} class will be retired soon and moved to torchtext.legacy. Please see the most recent release notes for further information.'.format(self.__class__.__name__), UserWarning)\n"
     ]
    }
   ],
   "source": [
    "from torchtext.data import Field\n",
    "\n",
    "german = Field(tokenize=tokenize_ger, lower=True, init_token=\"<sos>\", eos_token=\"<eos>\")\n",
    "\n",
    "english = Field(\n",
    "    tokenize=tokenize_eng, lower=True, init_token=\"<sos>\", eos_token=\"<eos>\"\n",
    ")\n"
   ]
  },
  {
   "cell_type": "code",
   "execution_count": 8,
   "metadata": {
    "execution": {
     "iopub.execute_input": "2020-12-22T03:49:03.501545Z",
     "iopub.status.busy": "2020-12-22T03:49:03.500742Z",
     "iopub.status.idle": "2020-12-22T03:49:20.583156Z",
     "shell.execute_reply": "2020-12-22T03:49:20.582092Z"
    },
    "papermill": {
     "duration": 17.111647,
     "end_time": "2020-12-22T03:49:20.583270",
     "exception": false,
     "start_time": "2020-12-22T03:49:03.471623",
     "status": "completed"
    },
    "tags": []
   },
   "outputs": [
    {
     "name": "stdout",
     "output_type": "stream",
     "text": [
      "downloading training.tar.gz\n"
     ]
    },
    {
     "name": "stderr",
     "output_type": "stream",
     "text": [
      "training.tar.gz: 100%|██████████| 1.21M/1.21M [00:04<00:00, 292kB/s]\n"
     ]
    },
    {
     "name": "stdout",
     "output_type": "stream",
     "text": [
      "downloading validation.tar.gz\n"
     ]
    },
    {
     "name": "stderr",
     "output_type": "stream",
     "text": [
      "validation.tar.gz: 100%|██████████| 46.3k/46.3k [00:00<00:00, 92.4kB/s]\n"
     ]
    },
    {
     "name": "stdout",
     "output_type": "stream",
     "text": [
      "downloading mmt_task1_test2016.tar.gz\n"
     ]
    },
    {
     "name": "stderr",
     "output_type": "stream",
     "text": [
      "mmt_task1_test2016.tar.gz: 100%|██████████| 66.2k/66.2k [00:00<00:00, 88.0kB/s]\n",
      "/opt/conda/lib/python3.7/site-packages/torchtext/data/example.py:78: UserWarning: Example class will be retired soon and moved to torchtext.legacy. Please see the most recent release notes for further information.\n",
      "  warnings.warn('Example class will be retired soon and moved to torchtext.legacy. Please see the most recent release notes for further information.', UserWarning)\n"
     ]
    }
   ],
   "source": [
    "train_data, valid_data, test_data = Multi30k.splits(\n",
    "    exts=(\".de\", \".en\"), fields=(german, english)\n",
    ")"
   ]
  },
  {
   "cell_type": "code",
   "execution_count": 9,
   "metadata": {
    "execution": {
     "iopub.execute_input": "2020-12-22T03:49:20.700925Z",
     "iopub.status.busy": "2020-12-22T03:49:20.665095Z",
     "iopub.status.idle": "2020-12-22T03:49:20.938280Z",
     "shell.execute_reply": "2020-12-22T03:49:20.938690Z"
    },
    "papermill": {
     "duration": 0.320614,
     "end_time": "2020-12-22T03:49:20.938817",
     "exception": false,
     "start_time": "2020-12-22T03:49:20.618203",
     "status": "completed"
    },
    "tags": []
   },
   "outputs": [],
   "source": [
    "german.build_vocab(train_data, max_size=10000, min_freq=2)\n",
    "english.build_vocab(train_data, max_size=10000, min_freq=2)"
   ]
  },
  {
   "cell_type": "code",
   "execution_count": 10,
   "metadata": {
    "execution": {
     "iopub.execute_input": "2020-12-22T03:49:21.019495Z",
     "iopub.status.busy": "2020-12-22T03:49:21.016591Z",
     "iopub.status.idle": "2020-12-22T03:49:21.021561Z",
     "shell.execute_reply": "2020-12-22T03:49:21.022081Z"
    },
    "papermill": {
     "duration": 0.047942,
     "end_time": "2020-12-22T03:49:21.022186",
     "exception": false,
     "start_time": "2020-12-22T03:49:20.974244",
     "status": "completed"
    },
    "tags": []
   },
   "outputs": [],
   "source": [
    "class Encoder(nn.Module):\n",
    "    def __init__(self,input_size,embedding_size,hidden_size,num_layers,p):\n",
    "        super(Encoder,self).__init__()\n",
    "        self.hidden_size = hidden_size\n",
    "        self.num_layers = num_layers \n",
    "        \n",
    "        self.embedding = nn.Embedding(input_size , embedding_size)\n",
    "        self.rnn = nn.LSTM(embedding_size , hidden_size, num_layers , bidirectional= True)\n",
    "        \n",
    "        self.fc_hidden = nn.Linear(hidden_size *2, hidden_size)\n",
    "        self.fc_cell = nn.Linear(hidden_size *2, hidden_size)\n",
    "        self.dropout = nn.Dropout(p)\n",
    "        \n",
    "     \n",
    "\n",
    "    def forward(self,x):\n",
    "        # x is shape of (seq_length ,N)\n",
    "        embedding = self.dropout(self.embedding(x))\n",
    "        \n",
    "\n",
    "        encoder_states, (hidden, cell) = self.rnn(embedding)\n",
    "        \n",
    "        hidden = self.fc_hidden(torch.cat((hidden[0:1], hidden[1:2]), dim=2))\n",
    "        cell = self.fc_cell(torch.cat((cell[0:1], cell[1:2]), dim=2))\n",
    "        \n",
    "        return encoder_states, hidden , cell "
   ]
  },
  {
   "cell_type": "code",
   "execution_count": 11,
   "metadata": {
    "execution": {
     "iopub.execute_input": "2020-12-22T03:49:21.105031Z",
     "iopub.status.busy": "2020-12-22T03:49:21.104303Z",
     "iopub.status.idle": "2020-12-22T03:49:21.107076Z",
     "shell.execute_reply": "2020-12-22T03:49:21.106676Z"
    },
    "papermill": {
     "duration": 0.05057,
     "end_time": "2020-12-22T03:49:21.107158",
     "exception": false,
     "start_time": "2020-12-22T03:49:21.056588",
     "status": "completed"
    },
    "tags": []
   },
   "outputs": [],
   "source": [
    "class Decoder(nn.Module):\n",
    "    def __init__(self , input_size, embedding_size, hidden_size, output_size, num_layers, p):\n",
    "        super(Decoder , self).__init__()\n",
    "        self.hidden_size = hidden_size\n",
    "        self.num_layers = num_layers\n",
    "        \n",
    "        self.embedding = nn.Embedding(input_size , embedding_size)\n",
    "        self.rnn = nn.LSTM(hidden_size * 2 + embedding_size, hidden_size ,num_layers)\n",
    "        \n",
    "        self.energy = nn.Linear(hidden_size * 3, 1)\n",
    "        self.fc = nn.Linear(hidden_size, output_size)\n",
    "        self.dropout = nn.Dropout(p)\n",
    "        self.softmax = nn.Softmax(dim=0)\n",
    "        self.relu = nn.ReLU()\n",
    "    \n",
    "    def forward(self,  x, encoder_states, hidden, cell):\n",
    "        x = x.unsqueeze(0)\n",
    "        #x:(1,N)\n",
    "        embedding = self.dropout(self.embedding(x))\n",
    "        #(1,N,embedding_size)\n",
    "        \n",
    "        sequence_length = encoder_states.shape[0]\n",
    "        h_reshaped = hidden.repeat(sequence_length, 1, 1)\n",
    "        # h_reshaped: (seq_length, N, hidden_size*2)\n",
    "        energy = self.relu(self.energy(torch.cat((h_reshaped, encoder_states), dim=2)))\n",
    "        \n",
    "        attention = self.softmax(energy)\n",
    "        attention = attention.permute(1,2,0)\n",
    "        \n",
    "        encoder_states = encoder_states.permute(1,0,2)\n",
    "        \n",
    "        context_vector = torch.bmm( attention, encoder_states).permute(1,0,2)\n",
    "        rnn_input = torch.cat((context_vector, embedding), dim=2)\n",
    "        outputs, (hidden, cell) = self.rnn(rnn_input, (hidden, cell))\n",
    "        # outputs shape: (1, N, hidden_size)\n",
    "        \n",
    "        predictions = self.fc(outputs).squeeze(0)\n",
    "        return predictions, hidden, cell"
   ]
  },
  {
   "cell_type": "code",
   "execution_count": 12,
   "metadata": {
    "execution": {
     "iopub.execute_input": "2020-12-22T03:49:21.185628Z",
     "iopub.status.busy": "2020-12-22T03:49:21.184997Z",
     "iopub.status.idle": "2020-12-22T03:49:21.187803Z",
     "shell.execute_reply": "2020-12-22T03:49:21.187301Z"
    },
    "papermill": {
     "duration": 0.046037,
     "end_time": "2020-12-22T03:49:21.187883",
     "exception": false,
     "start_time": "2020-12-22T03:49:21.141846",
     "status": "completed"
    },
    "tags": []
   },
   "outputs": [],
   "source": [
    "class Seq2seq(nn.Module):\n",
    "    def __init__(self ,encoder ,decoder):\n",
    "        super(Seq2seq,self).__init__()\n",
    "        self.encoder = encoder\n",
    "        self.decoder = decoder\n",
    "    \n",
    "    def forward(self ,source ,target ,teacher_force_ratio=0.5):\n",
    "        batch_size =  source.shape[1]\n",
    "        target_len =  target.shape[0]\n",
    "        target_vocab_size = len(english.vocab)\n",
    "        \n",
    "        outputs = torch.zeros(target_len, batch_size, target_vocab_size).to(device)\n",
    "        encoder_states, hidden, cell = self.encoder(source)\n",
    "        \n",
    "        x = target[0]\n",
    "        \n",
    "        for t in range(1,target_len):\n",
    "            output, hidden, cell = self.decoder(x, encoder_states, hidden, cell)\n",
    "            \n",
    "            outputs[t] = output\n",
    "            best_guess = output.argmax(1)\n",
    "            \n",
    "            x = target[t] if random.random() < teacher_force_ratio else best_guess\n",
    "\n",
    "        return outputs\n",
    "        \n",
    "        \n",
    "        \n",
    "        "
   ]
  },
  {
   "cell_type": "code",
   "execution_count": 13,
   "metadata": {
    "execution": {
     "iopub.execute_input": "2020-12-22T03:49:21.266742Z",
     "iopub.status.busy": "2020-12-22T03:49:21.266179Z",
     "iopub.status.idle": "2020-12-22T03:49:32.425062Z",
     "shell.execute_reply": "2020-12-22T03:49:32.423960Z"
    },
    "papermill": {
     "duration": 11.202688,
     "end_time": "2020-12-22T03:49:32.425177",
     "exception": false,
     "start_time": "2020-12-22T03:49:21.222489",
     "status": "completed"
    },
    "tags": []
   },
   "outputs": [
    {
     "name": "stderr",
     "output_type": "stream",
     "text": [
      "/opt/conda/lib/python3.7/site-packages/torchtext/data/iterator.py:48: UserWarning: BucketIterator class will be retired soon and moved to torchtext.legacy. Please see the most recent release notes for further information.\n",
      "  warnings.warn('{} class will be retired soon and moved to torchtext.legacy. Please see the most recent release notes for further information.'.format(self.__class__.__name__), UserWarning)\n"
     ]
    }
   ],
   "source": [
    "from torch.utils.tensorboard import SummaryWriter\n",
    "from torchtext.data import Field, BucketIterator\n",
    "device = torch.device(\"cuda\" if torch.cuda.is_available() else \"cpu\")\n",
    "load_model = False\n",
    "save_model = True\n",
    "\n",
    "# Training hyperparameters\n",
    "num_epochs = 50\n",
    "learning_rate = 3e-4\n",
    "batch_size = 32\n",
    "\n",
    "# Model hyperparameters\n",
    "input_size_encoder = len(german.vocab)\n",
    "input_size_decoder = len(english.vocab)\n",
    "output_size = len(english.vocab)\n",
    "encoder_embedding_size = 200\n",
    "decoder_embedding_size = 200\n",
    "hidden_size = 1024\n",
    "num_layers = 1\n",
    "enc_dropout = 0.0\n",
    "dec_dropout = 0.0\n",
    "\n",
    "# Tensorboard to get nice loss plot\n",
    "writer = SummaryWriter(f\"runs/loss_plot\")\n",
    "step = 0\n",
    "\n",
    "train_iterator, valid_iterator, test_iterator = BucketIterator.splits(\n",
    "    (train_data, valid_data, test_data),\n",
    "    batch_size=batch_size,\n",
    "    sort_within_batch=True,\n",
    "    sort_key=lambda x: len(x.src),\n",
    "    device=device,\n",
    ")\n",
    "\n",
    "encoder_net = Encoder(\n",
    "    input_size_encoder, encoder_embedding_size, hidden_size, num_layers, enc_dropout\n",
    ").to(device)\n",
    "\n",
    "decoder_net = Decoder(\n",
    "    input_size_decoder,\n",
    "    decoder_embedding_size,\n",
    "    hidden_size,\n",
    "    output_size,\n",
    "    num_layers,\n",
    "    dec_dropout,\n",
    ").to(device)"
   ]
  },
  {
   "cell_type": "code",
   "execution_count": 14,
   "metadata": {
    "execution": {
     "iopub.execute_input": "2020-12-22T03:49:32.512305Z",
     "iopub.status.busy": "2020-12-22T03:49:32.511118Z",
     "iopub.status.idle": "2020-12-22T03:49:32.514038Z",
     "shell.execute_reply": "2020-12-22T03:49:32.513629Z"
    },
    "papermill": {
     "duration": 0.049578,
     "end_time": "2020-12-22T03:49:32.514125",
     "exception": false,
     "start_time": "2020-12-22T03:49:32.464547",
     "status": "completed"
    },
    "tags": []
   },
   "outputs": [],
   "source": [
    "from torchtext.data.metrics import bleu_score\n",
    "import sys"
   ]
  },
  {
   "cell_type": "code",
   "execution_count": 15,
   "metadata": {
    "execution": {
     "iopub.execute_input": "2020-12-22T03:49:32.593365Z",
     "iopub.status.busy": "2020-12-22T03:49:32.592859Z",
     "iopub.status.idle": "2020-12-22T03:49:32.596254Z",
     "shell.execute_reply": "2020-12-22T03:49:32.596736Z"
    },
    "papermill": {
     "duration": 0.046497,
     "end_time": "2020-12-22T03:49:32.596894",
     "exception": false,
     "start_time": "2020-12-22T03:49:32.550397",
     "status": "completed"
    },
    "tags": []
   },
   "outputs": [],
   "source": [
    "\n",
    "def save_checkpoint(state, filename=\"my_checkpoint.pth.tar\"):\n",
    "    print(\"=> Saving checkpoint\")\n",
    "    torch.save(state, filename)\n",
    "\n",
    "\n",
    "def load_checkpoint(checkpoint, model, optimizer):\n",
    "    print(\"=> Loading checkpoint\")\n",
    "    model.load_state_dict(checkpoint[\"state_dict\"])\n",
    "    optimizer.load_state_dict(checkpoint[\"optimizer\"])"
   ]
  },
  {
   "cell_type": "code",
   "execution_count": 16,
   "metadata": {
    "execution": {
     "iopub.execute_input": "2020-12-22T03:49:32.683881Z",
     "iopub.status.busy": "2020-12-22T03:49:32.683247Z",
     "iopub.status.idle": "2020-12-22T03:49:32.686944Z",
     "shell.execute_reply": "2020-12-22T03:49:32.686533Z"
    },
    "papermill": {
     "duration": 0.054282,
     "end_time": "2020-12-22T03:49:32.687038",
     "exception": false,
     "start_time": "2020-12-22T03:49:32.632756",
     "status": "completed"
    },
    "tags": []
   },
   "outputs": [],
   "source": [
    "def translate_sentence(model, sentence, german, english, device, max_length=50):\n",
    "    # Load german tokenizer\n",
    "    spacy_ger = spacy.load(\"de\")\n",
    "\n",
    "    # Create tokens using spacy and everything in lower case (which is what our vocab is)\n",
    "    if type(sentence) == str:\n",
    "        tokens = [token.text.lower() for token in spacy_ger(sentence)]\n",
    "    else:\n",
    "        tokens = [token.lower() for token in sentence]\n",
    "\n",
    "    # Add <SOS> and <EOS> in beginning and end respectively\n",
    "    tokens.insert(0, german.init_token)\n",
    "    tokens.append(german.eos_token)\n",
    "\n",
    "    # Go through each german token and convert to an index\n",
    "    text_to_indices = [german.vocab.stoi[token] for token in tokens]\n",
    "\n",
    "    # Convert to Tensor\n",
    "    sentence_tensor = torch.LongTensor(text_to_indices).unsqueeze(1).to(device)\n",
    "\n",
    "    # Build encoder hidden, cell state\n",
    "    with torch.no_grad():\n",
    "        outputs_encoder, hiddens, cells = model.encoder(sentence_tensor)\n",
    "\n",
    "    outputs = [english.vocab.stoi[\"<sos>\"]]\n",
    "\n",
    "    for _ in range(max_length):\n",
    "        previous_word = torch.LongTensor([outputs[-1]]).to(device)\n",
    "\n",
    "        with torch.no_grad():\n",
    "            output, hiddens, cells = model.decoder(\n",
    "                previous_word, outputs_encoder, hiddens, cells\n",
    "            )\n",
    "            best_guess = output.argmax(1).item()\n",
    "\n",
    "        outputs.append(best_guess)\n",
    "\n",
    "        # Model predicts it's the end of the sentence\n",
    "        if output.argmax(1).item() == english.vocab.stoi[\"<eos>\"]:\n",
    "            break\n",
    "\n",
    "    translated_sentence = [english.vocab.itos[idx] for idx in outputs]\n",
    "\n",
    "    # remove start token\n",
    "    return translated_sentence[1:]\n",
    "\n",
    "\n",
    "def bleu(data, model, german, english, device):\n",
    "    targets = []\n",
    "    outputs = []\n",
    "\n",
    "    for example in data:\n",
    "        src = vars(example)[\"src\"]\n",
    "        trg = vars(example)[\"trg\"]\n",
    "\n",
    "        prediction = translate_sentence(model, src, german, english, device)\n",
    "        prediction = prediction[:-1]  # remove <eos> token\n",
    "\n",
    "        targets.append([trg])\n",
    "        outputs.append(prediction)\n",
    "\n",
    "    return bleu_score(outputs, targets)"
   ]
  },
  {
   "cell_type": "code",
   "execution_count": 17,
   "metadata": {
    "execution": {
     "iopub.execute_input": "2020-12-22T03:49:32.772401Z",
     "iopub.status.busy": "2020-12-22T03:49:32.771631Z",
     "iopub.status.idle": "2020-12-22T04:50:17.592399Z",
     "shell.execute_reply": "2020-12-22T04:50:17.592967Z"
    },
    "papermill": {
     "duration": 3644.870219,
     "end_time": "2020-12-22T04:50:17.593112",
     "exception": false,
     "start_time": "2020-12-22T03:49:32.722893",
     "status": "completed"
    },
    "tags": []
   },
   "outputs": [
    {
     "name": "stdout",
     "output_type": "stream",
     "text": [
      "[Epoch 0 / 50]\n",
      "=> Saving checkpoint\n",
      "Translated example sentence: \n",
      " ['black', 'leaving', 'valley', 'awe', 'wood', 'vegetables', 'flour', 'fair', 'approaches', 'overlooking', 'cup', 'drifts', 'sleepy', 'electronics', 'confetti', 'streets', 'barriers', 'does', 'riot', 'splash', 'bridesmaid', 'tuba', 'teeth', 'caged', 'european', 'embracing', 'planes', 'fisherman', 'heron', 'middle', 'gated', 'ninja', 'dragging', 'slow', 'own', '<pad>', 'question', 'upright', 'short', 'olympians', 'nibbling', 'ohio', 'bodysuit', 'cafeteria', 'dishes', 'dunk', 'member', 'wigs', 'sons', 'word']\n"
     ]
    },
    {
     "name": "stderr",
     "output_type": "stream",
     "text": [
      "/opt/conda/lib/python3.7/site-packages/torchtext/data/batch.py:23: UserWarning: Batch class will be retired soon and moved to torchtext.legacy. Please see the most recent release notes for further information.\n",
      "  warnings.warn('{} class will be retired soon and moved to torchtext.legacy. Please see the most recent release notes for further information.'.format(self.__class__.__name__), UserWarning)\n"
     ]
    },
    {
     "name": "stdout",
     "output_type": "stream",
     "text": [
      "[Epoch 1 / 50]\n",
      "=> Saving checkpoint\n",
      "Translated example sentence: \n",
      " ['a', 'young', 'player', 'with', 'a', '<unk>', 'is', '<unk>', '<unk>', '<unk>', '<unk>', '<unk>', '<unk>', '.', '<eos>']\n",
      "[Epoch 2 / 50]\n",
      "=> Saving checkpoint\n",
      "Translated example sentence: \n",
      " ['a', 'man', 'with', 'a', 'yellow', 'hat', 'is', 'by', 'a', 'large', 'of', 'a', '<unk>', '.', '<eos>']\n",
      "[Epoch 3 / 50]\n",
      "=> Saving checkpoint\n",
      "Translated example sentence: \n",
      " ['a', 'brown', 'and', 'white', 'is', 'being', 'pulled', 'from', 'a', '<unk>', 'by', 'a', '<unk>', '<unk>', '.', '<eos>']\n",
      "[Epoch 4 / 50]\n",
      "=> Saving checkpoint\n",
      "Translated example sentence: \n",
      " ['a', 'with', 'white', '<unk>', 'is', 'being', 'pulled', 'by', 'a', '<unk>', 'by', 'a', '.', '.', '<eos>']\n",
      "[Epoch 5 / 50]\n",
      "=> Saving checkpoint\n",
      "Translated example sentence: \n",
      " ['a', 'boat', 'with', 'white', '<unk>', 'is', 'being', 'pulled', 'by', 'a', 'bull', 'by', 'a', '.', '<eos>']\n",
      "[Epoch 6 / 50]\n",
      "=> Saving checkpoint\n",
      "Translated example sentence: \n",
      " ['a', 'boat', 'with', 'white', '<unk>', 'is', 'being', 'pulled', 'by', 'by', 'horses', 'by', 'a', 'goal', '.', '<eos>']\n",
      "[Epoch 7 / 50]\n",
      "=> Saving checkpoint\n",
      "Translated example sentence: \n",
      " ['a', 'boat', 'with', 'blue', 'and', 'is', 'being', 'pulled', 'by', 'a', 'bull', 'by', 'a', 'goal', '.', '.', '<eos>']\n",
      "[Epoch 8 / 50]\n",
      "=> Saving checkpoint\n",
      "Translated example sentence: \n",
      " ['a', 'boat', 'with', 'several', 'men', 'is', 'being', 'pulled', 'by', 'to', 'shore', 'by', 'a', 'shore', '.', '<eos>']\n",
      "[Epoch 9 / 50]\n",
      "=> Saving checkpoint\n",
      "Translated example sentence: \n",
      " ['a', 'boat', 'with', 'several', 'men', 'is', 'being', 'pulled', 'by', 'a', 'shore', 'by', 'a', 'shore', '.', '<eos>']\n",
      "[Epoch 10 / 50]\n",
      "=> Saving checkpoint\n",
      "Translated example sentence: \n",
      " ['a', 'boat', 'wearing', 'red', 'is', 'being', 'pulled', 'to', 'to', 'a', 'shore', 'of', 'a', 'goal', '.', '<eos>']\n",
      "[Epoch 11 / 50]\n",
      "=> Saving checkpoint\n",
      "Translated example sentence: \n",
      " ['a', 'boat', 'in', 'red', 'is', 'being', 'pulled', 'to', 'shore', 'by', 'a', 'shore', '.', '<eos>']\n",
      "[Epoch 12 / 50]\n",
      "=> Saving checkpoint\n",
      "Translated example sentence: \n",
      " ['a', 'boat', 'wearing', 'a', 'uniform', 'is', 'being', 'pulled', 'to', 'to', 'shore', 'by', 'a', 'shore', 'of', 'horses', '.', '<eos>']\n",
      "[Epoch 13 / 50]\n",
      "=> Saving checkpoint\n",
      "Translated example sentence: \n",
      " ['a', 'boat', 'wearing', 'red', 'is', 'pulled', 'pulled', 'to', 'shore', 'to', 'shore', 'by', 'a', 'shore', '.', '<eos>']\n",
      "[Epoch 14 / 50]\n",
      "=> Saving checkpoint\n",
      "Translated example sentence: \n",
      " ['a', 'boat', 'carrying', 'several', 'men', 'is', 'being', 'pulled', 'to', 'to', 'shore', '.', '<eos>']\n",
      "[Epoch 15 / 50]\n",
      "=> Saving checkpoint\n",
      "Translated example sentence: \n",
      " ['a', 'man', 'wearing', 'a', 'is', 'is', 'being', 'pulled', 'by', 'a', 'bull', 'to', 'a', 'bull', 'of', 'horses', '.', '<eos>']\n",
      "[Epoch 16 / 50]\n",
      "=> Saving checkpoint\n",
      "Translated example sentence: \n",
      " ['a', 'boat', 'wearing', 'several', 'men', 'is', 'pulled', 'to', 'shore', 'by', 'shore', 'by', 'a', 'team', '.', '<eos>']\n",
      "[Epoch 17 / 50]\n",
      "=> Saving checkpoint\n",
      "Translated example sentence: \n",
      " ['a', 'boat', 'carrying', 'several', 'men', 'is', 'being', 'pulled', 'to', 'by', 'a', 'shore', 'of', 'horses', '.', '<eos>']\n",
      "[Epoch 18 / 50]\n",
      "=> Saving checkpoint\n",
      "Translated example sentence: \n",
      " ['a', 'boat', 'carrying', 'several', 'men', 'is', 'being', 'to', 'shore', 'by', 'a', 'shore', 'of', 'horses', '.', '<eos>']\n",
      "[Epoch 19 / 50]\n",
      "=> Saving checkpoint\n",
      "Translated example sentence: \n",
      " ['a', 'boat', 'carrying', 'several', 'men', 'is', 'pulled', 'to', 'shore', 'by', 'a', 'shore', 'of', 'horses', '.', '<eos>']\n",
      "[Epoch 20 / 50]\n",
      "=> Saving checkpoint\n",
      "Translated example sentence: \n",
      " ['a', 'boat', 'carrying', 'several', 'men', 'is', 'being', 'pulled', 'to', 'shore', 'by', 'a', 'team', 'team', '.', '<eos>']\n",
      "[Epoch 21 / 50]\n",
      "=> Saving checkpoint\n",
      "Translated example sentence: \n",
      " ['a', 'boat', 'carrying', 'several', 'men', 'is', 'pulled', 'to', 'shore', 'by', 'a', 'shore', 'of', 'horses', '.', '<eos>']\n",
      "[Epoch 22 / 50]\n",
      "=> Saving checkpoint\n",
      "Translated example sentence: \n",
      " ['a', 'boat', 'carrying', 'several', 'men', 'is', 'pulled', 'to', 'to', 'a', 'a', 'shore', 'of', 'horses', '.', '<eos>']\n",
      "[Epoch 23 / 50]\n",
      "=> Saving checkpoint\n",
      "Translated example sentence: \n",
      " ['a', 'boat', 'carrying', 'several', 'men', 'is', 'pulled', 'to', 'shore', 'by', 'a', 'shore', 'of', 'horses', '.', '<eos>']\n",
      "[Epoch 24 / 50]\n",
      "=> Saving checkpoint\n",
      "Translated example sentence: \n",
      " ['a', 'boat', 'with', 'several', 'men', 'is', 'pulled', 'to', 'shore', 'by', 'a', 'shore', 'of', 'horses', '.', '<eos>']\n",
      "[Epoch 25 / 50]\n",
      "=> Saving checkpoint\n",
      "Translated example sentence: \n",
      " ['a', 'boat', 'carrying', 'several', 'men', 'is', 'pulled', 'to', 'shore', 'by', 'a', 'shore', 'of', 'horses', '.', '<eos>']\n",
      "[Epoch 26 / 50]\n",
      "=> Saving checkpoint\n",
      "Translated example sentence: \n",
      " ['a', 'boat', 'in', 'blue', 'is', 'being', 'pulled', 'to', 'shore', 'by', 'a', 'team', 'wearing', 'wearing', '.', '<eos>']\n",
      "[Epoch 27 / 50]\n",
      "=> Saving checkpoint\n",
      "Translated example sentence: \n",
      " ['a', 'boat', 'carrying', 'several', 'men', 'is', 'pulled', 'to', 'shore', 'by', 'a', 'shore', 'of', 'horses', '.', '<eos>']\n",
      "[Epoch 28 / 50]\n",
      "=> Saving checkpoint\n",
      "Translated example sentence: \n",
      " ['a', 'boat', 'in', 'uniform', 'is', 'being', 'pulled', 'to', 'shore', 'by', 'a', 'shore', 'of', 'horses', '.', '<eos>']\n",
      "[Epoch 29 / 50]\n",
      "=> Saving checkpoint\n",
      "Translated example sentence: \n",
      " ['a', 'boat', 'with', 'several', 'men', 'is', 'pulled', 'to', 'shore', 'by', 'a', 'shore', 'of', 'horses', '.', '<eos>']\n",
      "[Epoch 30 / 50]\n",
      "=> Saving checkpoint\n",
      "Translated example sentence: \n",
      " ['a', 'boat', 'with', 'several', 'men', 'is', 'pulled', 'to', 'shore', 'by', 'a', 'shore', 'of', 'horses', '.', '<eos>']\n",
      "[Epoch 31 / 50]\n",
      "=> Saving checkpoint\n",
      "Translated example sentence: \n",
      " ['a', 'boat', 'wearing', 'blue', 'is', 'is', 'pulled', 'to', 'shore', 'by', 'a', 'bull', 'by', 'horses', '.', '<eos>']\n",
      "[Epoch 32 / 50]\n",
      "=> Saving checkpoint\n",
      "Translated example sentence: \n",
      " ['a', 'boat', 'with', 'several', 'men', 'is', 'pulled', 'to', 'shore', 'by', 'a', 'shore', 'of', 'horses', '.', '<eos>']\n",
      "[Epoch 33 / 50]\n",
      "=> Saving checkpoint\n",
      "Translated example sentence: \n",
      " ['a', 'boat', 'carrying', 'several', 'men', 'is', 'being', 'pulled', 'to', 'shore', 'by', 'a', 'shore', '.', '<eos>']\n",
      "[Epoch 34 / 50]\n",
      "=> Saving checkpoint\n",
      "Translated example sentence: \n",
      " ['a', 'boat', 'carrying', 'several', 'men', 'is', 'pulled', 'to', 'shore', 'by', 'a', 'shore', 'of', 'horses', '.', '<eos>']\n",
      "[Epoch 35 / 50]\n",
      "=> Saving checkpoint\n",
      "Translated example sentence: \n",
      " ['a', 'boat', 'carrying', 'several', 'men', 'is', 'pulled', 'to', 'shore', 'by', 'a', 'shore', 'of', 'horses', '.', '<eos>']\n",
      "[Epoch 36 / 50]\n",
      "=> Saving checkpoint\n",
      "Translated example sentence: \n",
      " ['a', 'boat', 'with', 'several', 'men', 'is', 'pulled', 'to', 'shore', 'by', 'a', 'shore', 'of', 'a', 'team', '.', '<eos>']\n",
      "[Epoch 37 / 50]\n",
      "=> Saving checkpoint\n",
      "Translated example sentence: \n",
      " ['a', 'boat', 'carrying', 'several', 'men', 'is', 'pulled', 'to', 'shore', 'by', 'a', 'shore', 'of', 'horses', '.', '<eos>']\n",
      "[Epoch 38 / 50]\n",
      "=> Saving checkpoint\n",
      "Translated example sentence: \n",
      " ['a', 'boat', 'carrying', 'several', 'men', 'is', 'pulled', 'to', 'shore', 'by', 'a', 'shore', 'of', 'horses', '.', '<eos>']\n",
      "[Epoch 39 / 50]\n",
      "=> Saving checkpoint\n",
      "Translated example sentence: \n",
      " ['a', 'boat', 'boat', 'is', 'being', 'pulled', 'by', 'a', 'shore', 'of', 'a', 'shore', '.', '<eos>']\n",
      "[Epoch 40 / 50]\n",
      "=> Saving checkpoint\n",
      "Translated example sentence: \n",
      " ['a', 'boat', 'with', 'several', 'people', 'is', 'pulled', 'to', 'shore', 'by', 'a', 'shore', 'of', 'horses', '.', '<eos>']\n",
      "[Epoch 41 / 50]\n",
      "=> Saving checkpoint\n",
      "Translated example sentence: \n",
      " ['a', 'boat', 'carrying', 'several', 'men', 'is', 'being', 'pulled', 'to', 'shore', 'by', 'a', 'shore', 'of', 'horses', '.', '<eos>']\n",
      "[Epoch 42 / 50]\n",
      "=> Saving checkpoint\n",
      "Translated example sentence: \n",
      " ['a', 'boat', 'carrying', 'several', 'men', 'is', 'being', 'pulled', 'to', 'shore', 'by', 'a', 'shore', 'of', 'horses', '.', '<eos>']\n",
      "[Epoch 43 / 50]\n",
      "=> Saving checkpoint\n",
      "Translated example sentence: \n",
      " ['a', 'boat', 'carrying', 'several', 'men', 'is', 'being', 'pulled', 'to', 'by', 'a', 'shore', 'of', 'horses', '.', '<eos>']\n",
      "[Epoch 44 / 50]\n",
      "=> Saving checkpoint\n",
      "Translated example sentence: \n",
      " ['a', 'boat', 'carrying', 'several', 'men', 'is', 'being', 'pulled', 'to', 'shore', 'by', 'a', 'shore', 'of', 'horses', '.', '<eos>']\n",
      "[Epoch 45 / 50]\n",
      "=> Saving checkpoint\n",
      "Translated example sentence: \n",
      " ['a', 'boat', 'carrying', 'several', 'men', 'is', 'pulled', 'to', 'shore', 'by', 'a', 'shore', 'of', 'horses', '.', '<eos>']\n",
      "[Epoch 46 / 50]\n",
      "=> Saving checkpoint\n",
      "Translated example sentence: \n",
      " ['a', 'boat', 'carrying', 'several', 'men', 'is', 'being', 'pulled', 'to', 'shore', 'by', 'a', 'shore', 'of', 'horses', '.', '<eos>']\n",
      "[Epoch 47 / 50]\n",
      "=> Saving checkpoint\n",
      "Translated example sentence: \n",
      " ['a', 'boat', 'carrying', 'several', 'men', 'is', 'being', 'pulled', 'to', 'shore', 'by', 'a', 'shore', 'of', 'horses', '.', '<eos>']\n",
      "[Epoch 48 / 50]\n",
      "=> Saving checkpoint\n",
      "Translated example sentence: \n",
      " ['a', 'boat', 'carrying', 'several', 'men', 'is', 'pulled', 'to', 'shore', 'by', 'a', 'shore', 'of', 'horses', '.', '<eos>']\n",
      "[Epoch 49 / 50]\n",
      "=> Saving checkpoint\n",
      "Translated example sentence: \n",
      " ['a', 'boat', 'carrying', 'several', 'men', 'is', 'pulled', 'to', 'shore', 'by', 'a', 'large', 'team', 'horses', '.', '<eos>']\n",
      "Bleu score 22.60\n"
     ]
    }
   ],
   "source": [
    "model = Seq2seq(encoder_net, decoder_net).to(device)\n",
    "optimizer = optim.Adam(model.parameters(), lr=learning_rate)\n",
    "\n",
    "pad_idx = english.vocab.stoi[\"<pad>\"]\n",
    "criterion = nn.CrossEntropyLoss(ignore_index=pad_idx)\n",
    "\n",
    "if load_model:\n",
    "    load_checkpoint(torch.load(\"my_checkpoint.pth.tar\"), model, optimizer)\n",
    "\n",
    "sentence = (\n",
    "    \"ein boot mit mehreren männern darauf wird von einem großen\"\n",
    "    \"pferdegespann ans ufer gezogen.\"\n",
    ")\n",
    "\n",
    "for epoch in range(num_epochs):\n",
    "    print(f\"[Epoch {epoch} / {num_epochs}]\")\n",
    "\n",
    "    if save_model:\n",
    "        checkpoint = {\n",
    "            \"state_dict\": model.state_dict(),\n",
    "            \"optimizer\": optimizer.state_dict(),\n",
    "        }\n",
    "        save_checkpoint(checkpoint)\n",
    "\n",
    "    model.eval()\n",
    "\n",
    "    translated_sentence = translate_sentence(\n",
    "        model, sentence, german, english, device, max_length=50\n",
    "    )\n",
    "\n",
    "    print(f\"Translated example sentence: \\n {translated_sentence}\")\n",
    "\n",
    "    model.train()\n",
    "\n",
    "    for batch_idx, batch in enumerate(train_iterator):\n",
    "        # Get input and targets and get to cuda\n",
    "        inp_data = batch.src.to(device)\n",
    "        target = batch.trg.to(device)\n",
    "\n",
    "        # Forward prop\n",
    "        output = model(inp_data, target)\n",
    "\n",
    "        # Output is of shape (trg_len, batch_size, output_dim) but Cross Entropy Loss\n",
    "        # doesn't take input in that form. For example if we have MNIST we want to have\n",
    "        # output to be: (N, 10) and targets just (N). Here we can view it in a similar\n",
    "        # way that we have output_words * batch_size that we want to send in into\n",
    "        # our cost function, so we need to do some reshapin. While we're at it\n",
    "        # Let's also remove the start token while we're at it\n",
    "        output = output[1:].reshape(-1, output.shape[2])\n",
    "        target = target[1:].reshape(-1)\n",
    "\n",
    "        optimizer.zero_grad()\n",
    "        loss = criterion(output, target)\n",
    "\n",
    "        # Back prop\n",
    "        loss.backward()\n",
    "\n",
    "        # Clip to avoid exploding gradient issues, makes sure grads are\n",
    "        # within a healthy range\n",
    "        torch.nn.utils.clip_grad_norm_(model.parameters(), max_norm=1)\n",
    "\n",
    "        # Gradient descent step\n",
    "        optimizer.step()\n",
    "\n",
    "        # Plot to tensorboard\n",
    "        writer.add_scalar(\"Training loss\", loss, global_step=step)\n",
    "        step += 1\n",
    "\n",
    "# running on entire test data takes a while\n",
    "score = bleu(test_data[1:100], model, german, english, device)\n",
    "print(f\"Bleu score {score * 100:.2f}\")"
   ]
  },
  {
   "cell_type": "code",
   "execution_count": null,
   "metadata": {
    "papermill": {
     "duration": 0.063497,
     "end_time": "2020-12-22T04:50:17.721690",
     "exception": false,
     "start_time": "2020-12-22T04:50:17.658193",
     "status": "completed"
    },
    "tags": []
   },
   "outputs": [],
   "source": []
  },
  {
   "cell_type": "code",
   "execution_count": null,
   "metadata": {
    "papermill": {
     "duration": 0.064871,
     "end_time": "2020-12-22T04:50:17.850408",
     "exception": false,
     "start_time": "2020-12-22T04:50:17.785537",
     "status": "completed"
    },
    "tags": []
   },
   "outputs": [],
   "source": []
  }
 ],
 "metadata": {
  "kernelspec": {
   "display_name": "Python 3",
   "language": "python",
   "name": "python3"
  },
  "language_info": {
   "codemirror_mode": {
    "name": "ipython",
    "version": 3
   },
   "file_extension": ".py",
   "mimetype": "text/x-python",
   "name": "python",
   "nbconvert_exporter": "python",
   "pygments_lexer": "ipython3",
   "version": "3.7.6"
  },
  "papermill": {
   "duration": 3706.957073,
   "end_time": "2020-12-22T04:50:19.379665",
   "environment_variables": {},
   "exception": null,
   "input_path": "__notebook__.ipynb",
   "output_path": "__notebook__.ipynb",
   "parameters": {},
   "start_time": "2020-12-22T03:48:32.422592",
   "version": "2.1.0"
  }
 },
 "nbformat": 4,
 "nbformat_minor": 4
}
